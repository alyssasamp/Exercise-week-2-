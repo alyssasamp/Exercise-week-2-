{
 "cells": [
  {
   "cell_type": "markdown",
   "id": "bf46d198",
   "metadata": {},
   "source": [
    "## Planting Grapevines Problem 13 - \n",
    "#In this problem we are asked to use a formula in order to find out the output of the number of grapevines that will fit in a row (using an input function to code it). "
   ]
  },
  {
   "cell_type": "code",
   "execution_count": null,
   "id": "879bc1a0",
   "metadata": {},
   "outputs": [],
   "source": []
  },
  {
   "cell_type": "code",
   "execution_count": null,
   "id": "7a7611d2",
   "metadata": {},
   "outputs": [],
   "source": [
    "R=float(input(\"Enter length of the row, in feet: \"))\n",
    "E=float(input(\"Enter the amount of space, in feet, used by an end-post assembly: \"))\n",
    "S=float(input(\"Enter the amount of space between the vines: \"))\n",
    "V=R-2*E/S\n",
    "print(\"Number of grapevines that will fit in the row:\",V)"
   ]
  },
  {
   "cell_type": "code",
   "execution_count": 8,
   "id": "9a781eaa",
   "metadata": {},
   "outputs": [
    {
     "name": "stdout",
     "output_type": "stream",
     "text": [
      "Enter length of the row, in feet: 5\n",
      "Enter the amount of space, in feet, used by an end-post assembly: 5\n",
      "Enter the amount of space between the vines: 5\n",
      "Number of grapevines that will fit in the row: 3.0\n"
     ]
    }
   ],
   "source": [
    "#For this, I used float in order for them to input any amount of each of the categories which are the lengths, and spaces. I left a space out with a \":\" where they type in a number and had to label each little equation its assigned number that it lined up as on the homework problem. Then I typed int he equation the problem wanted us to use to solve it and lastly used the print function to type out the final answer. Once that was coded, I was able to enter any numbers so I decided to use \"5\" for all of them, and with using the code, it gave me an output of 3. This means the final answer for my coding problem and the number of grapevines is 3. \n",
    "R=float(input(\"Enter length of the row, in feet: \"))\n",
    "E=float(input(\"Enter the amount of space, in feet, used by an end-post assembly: \"))\n",
    "S=float(input(\"Enter the amount of space between the vines: \"))\n",
    "V=R-2*E/S\n",
    "print(\"Number of grapevines that will fit in the row:\",V)"
   ]
  }
 ],
 "metadata": {
  "kernelspec": {
   "display_name": "Python 3 (ipykernel)",
   "language": "python",
   "name": "python3"
  },
  "language_info": {
   "codemirror_mode": {
    "name": "ipython",
    "version": 3
   },
   "file_extension": ".py",
   "mimetype": "text/x-python",
   "name": "python",
   "nbconvert_exporter": "python",
   "pygments_lexer": "ipython3",
   "version": "3.10.9"
  }
 },
 "nbformat": 4,
 "nbformat_minor": 5
}
