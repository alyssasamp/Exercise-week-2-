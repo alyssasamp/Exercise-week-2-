{
 "cells": [
  {
   "cell_type": "markdown",
   "id": "2074e3a4",
   "metadata": {},
   "source": [
    "## Programming exercise - problem 1 \n",
    "#This question asks us to write out our personal information, which I used the print function. "
   ]
  },
  {
   "cell_type": "code",
   "execution_count": 1,
   "id": "b7fb8fd9",
   "metadata": {},
   "outputs": [
    {
     "name": "stdout",
     "output_type": "stream",
     "text": [
      "Alyssa Samp\n"
     ]
    }
   ],
   "source": [
    "Using the print function prints out only what it says inside the parenthesis.\n",
    "print('Alyssa Samp')"
   ]
  },
  {
   "cell_type": "code",
   "execution_count": 2,
   "id": "c278c544",
   "metadata": {},
   "outputs": [
    {
     "name": "stdout",
     "output_type": "stream",
     "text": [
      "3498 Quincy Ct, Charleston, South Carolina, 48988\n"
     ]
    }
   ],
   "source": [
    "Same thing as before, for this I used the print function to type in a fake address because I've learned if you use print with the right quotations the answer will come out exactly what inside the parenthesis are. \n",
    "print('3498 Quincy Ct, Charleston, South Carolina, 48988')"
   ]
  },
  {
   "cell_type": "code",
   "execution_count": 3,
   "id": "54ac3bbd",
   "metadata": {},
   "outputs": [
    {
     "name": "stdout",
     "output_type": "stream",
     "text": [
      "374-699-7634\n"
     ]
    }
   ],
   "source": [
    "Since it only asked for telephone number with nothing else with it, all I had to do was type it imbetween the print function and then the parenthesis and the quotations. \n",
    "print(\"374-699-7634\")"
   ]
  },
  {
   "cell_type": "code",
   "execution_count": 5,
   "id": "e79e0614",
   "metadata": {},
   "outputs": [
    {
     "name": "stdout",
     "output_type": "stream",
     "text": [
      "My major is business\n"
     ]
    }
   ],
   "source": [
    "The last one asked a simply question of what is my major so I just had to use the print function to get a clear and easy sentence. \n",
    "print(\"My major is business\")"
   ]
  },
  {
   "cell_type": "markdown",
   "id": "cb73cdd0",
   "metadata": {},
   "source": [
    "## Algorithm workbench- problem 2 \n",
    "They want us to use Python codes to get the user to add in their favorite color. "
   ]
  },
  {
   "cell_type": "code",
   "execution_count": null,
   "id": "0d4b86bb",
   "metadata": {},
   "outputs": [],
   "source": [
    "By using input, it allows for them to be able to put in their answer to fufill the question; making the color of their choice a variable .\n",
    "input(\"Enter your favorite color: \")"
   ]
  }
 ],
 "metadata": {
  "kernelspec": {
   "display_name": "Python 3 (ipykernel)",
   "language": "python",
   "name": "python3"
  },
  "language_info": {
   "codemirror_mode": {
    "name": "ipython",
    "version": 3
   },
   "file_extension": ".py",
   "mimetype": "text/x-python",
   "name": "python",
   "nbconvert_exporter": "python",
   "pygments_lexer": "ipython3",
   "version": "3.10.9"
  }
 },
 "nbformat": 4,
 "nbformat_minor": 5
}
